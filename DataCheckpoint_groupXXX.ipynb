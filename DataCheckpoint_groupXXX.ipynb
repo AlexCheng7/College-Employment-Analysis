{
 "cells": [
  {
   "cell_type": "markdown",
   "metadata": {},
   "source": [
    "# COGS 108 - Data Checkpoint"
   ]
  },
  {
   "cell_type": "markdown",
   "metadata": {},
   "source": [
    "# Names\n",
    "\n",
    "- Alex Cheng\n",
    "- Samarth Arora\n",
    "- Terence Ting\n",
    "- Thomas Kolinek\n",
    "- Yicong Guo"
   ]
  },
  {
   "cell_type": "markdown",
   "metadata": {},
   "source": [
    "<a id='research_question'></a>\n",
    "# Research Question"
   ]
  },
  {
   "cell_type": "markdown",
   "metadata": {},
   "source": [
    "Is there a relationship between the popularity of one’s major and the employment rate in that particular field of work?"
   ]
  },
  {
   "cell_type": "markdown",
   "metadata": {},
   "source": [
    "# Dataset(s)"
   ]
  },
  {
   "cell_type": "markdown",
   "metadata": {},
   "source": [
    "Name: grad-students.csv\n",
    "Link: grad-students.csv\n",
    "Observations: 173\n",
    "This dataset contains information regarding the count of graduate students (2010-2012, 25+ y/o) broken down by major and whether or not they are employed. It also counts the total number of non-graduate students broken down by major and whether or not they are employed.\n",
    "\n",
    "Name: recent-grads.csv\n",
    "Link: recent-grads.csv\n",
    "Observations: 173\n",
    "This dataset contains information regarding the count of graduate students (2010-2012, <28 y/o) broken down by major, the count broken down by gender, and whether or not they are employed. It also displays the count of how many students’ employment require college degrees and the count of students working in service jobs. \n",
    "\n",
    "Name: all-ages.csv\n",
    "Link: all-ages.csv\n",
    "Observations: 173\n",
    "This dataset contains information regarding the count of all students (2010-2012, no grad degree) broken down by major category and whether or not they are employed. It compares the total count of students, their employment status and whether or not they work full time. \n",
    "\n",
    "By combining grad-students.csv and recent-grads.csv, we can compare the employment rates of students broken down by major category and relate that to how many students are working in jobs relating to their major versus how many are working outside their major. This can then be related to all-ages.csv as it displays the total count of those working in a particular field, regardless of attending graduate school. "
   ]
  },
  {
   "cell_type": "markdown",
   "metadata": {},
   "source": [
    "# Setup"
   ]
  },
  {
   "cell_type": "code",
   "execution_count": 3,
   "metadata": {},
   "outputs": [],
   "source": [
    "import numpy as np\n",
    "import pandas as pd\n",
    "import matplotlib.pyplot as plt\n",
    "import seaborn as sns\n",
    "\n",
    "all_ages = pd.read_csv(\"https://raw.githubusercontent.com/COGS108/group048_wi21/main/all-ages.csv?token=AOGUFGDSBYLUWWVBHGBSXVLAGBKEC\")\n",
    "recent_grads = pd.read_csv(\"https://raw.githubusercontent.com/COGS108/group048_wi21/main/recent-grads.csv?token=AOGUFGBSAQ3RLRG3OLGVUR3AGBKFU\")\n",
    "grad_students = pd.read_csv(\"https://raw.githubusercontent.com/COGS108/group048_wi21/main/grad-students.csv?token=AOGUFGHMH6KXDOJXGLQWXADAGBKGQ\")\n"
   ]
  },
  {
   "cell_type": "markdown",
   "metadata": {},
   "source": [
    "# Data Cleaning"
   ]
  },
  {
   "cell_type": "markdown",
   "metadata": {},
   "source": [
    "Describe your data cleaning steps here."
   ]
  },
  {
   "cell_type": "code",
   "execution_count": 4,
   "metadata": {},
   "outputs": [],
   "source": [
    "#Here we remove some of the columns from recent_grads that do not pertain to our question, including:\n",
    "#ShareWomen, Median, P25th, and P75th\n",
    "trim_recent_grads = recent_grads.drop(['ShareWomen', 'Median', 'P25th', 'P75th'], axis=1)"
   ]
  },
  {
   "cell_type": "code",
   "execution_count": 5,
   "metadata": {},
   "outputs": [],
   "source": [
    "#Here we remove some of the columns from grad_students that are not relevant to our future analysis.\n",
    "#Grad_median, Grad_P25, Grad_P75, Nongrad_median, Nongrad_P25, and Nongrad_P75\n",
    "trim_grad_students = grad_students.drop(['Grad_median', 'Grad_P25', 'Grad_P75', 'Nongrad_median', 'Nongrad_P25', 'Nongrad_P75'], axis=1)"
   ]
  },
  {
   "cell_type": "markdown",
   "metadata": {},
   "source": [
    "# Project Proposal (updated)"
   ]
  },
  {
   "cell_type": "markdown",
   "metadata": {},
   "source": [
    "| Meeting Date  | Meeting Time| Completed Before Meeting  | Discuss at Meeting |\n",
    "|---|---|---|---|\n",
    "| 1/28  |  5 PM | Think about possible research topics  | Come to an agreement on a proposal | \n",
    "| 2/4  |  5 PM |  Prepare an idea of how to approach the question | Discuss with the team how to best approach the research question and come to a consensus | \n",
    "| 2/11  | 5 PM  | Search for data and wrangle relevant data | Chart compilation; Possibly search for other datasets; Prepare for Checkpoint #1 |\n",
    "| 2/18  | 5 PM  | Analyze the data and charts; look for more relevant data | Analyze the data and discuss how to best present it |\n",
    "| 2/25  | 5 PM  | Prepare idea proposals for graphs | Make Graphs and look over interesting relationships; Prepare for Checkpoint #2 |\n",
    "| 3/4  | 5 PM  | Film presentation scenes | Compile final thoughts on video |\n",
    "| 3/11  | 5 PM  | Check over everything | Turn in Final Project & Group Project Surveys |"
   ]
  }
 ],
 "metadata": {
  "kernelspec": {
   "display_name": "Python 3",
   "language": "python",
   "name": "python3"
  },
  "language_info": {
   "codemirror_mode": {
    "name": "ipython",
    "version": 3
   },
   "file_extension": ".py",
   "mimetype": "text/x-python",
   "name": "python",
   "nbconvert_exporter": "python",
   "pygments_lexer": "ipython3",
   "version": "3.7.6"
  }
 },
 "nbformat": 4,
 "nbformat_minor": 2
}
